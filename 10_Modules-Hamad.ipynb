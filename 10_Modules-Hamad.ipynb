{
 "cells": [
  {
   "cell_type": "markdown",
   "metadata": {},
   "source": [
    "## Modules\n",
    "\n",
    "All the functions and objects we've so far have been created by us. Once we deal with real-world datasets, we will most likely be writing even larger ammounts of code (combinations of functions and objects). \n",
    "\n",
    "Luckily, Python comes with many useful **modules**. A **module** is a *collection of functions and objects* typically organized by theme (e.g. statistics).\n",
    "\n",
    "All we have to do to access a module is import it and start using it right away, without knowing every detail under-the-hood that makes it work. \n",
    "\n",
    "Let's see how we can access a module\n",
    "\n",
    "\n",
    "```python\n",
    "import module_name\n",
    "```\n",
    "\n",
    "To access its methods/functions:\n",
    "\n",
    "```python\n",
    "module_name.function()\n",
    "```\n",
    "        \n",
    "To access an variable:\n",
    "\n",
    "```python\n",
    "module_name.variable\n",
    "```\n",
    "\n",
    "We will be learning about more modules the further we progress in the course."
   ]
  },
  {
   "cell_type": "markdown",
   "metadata": {},
   "source": [
    "Let's put this to test with the `math` module, which, as the name suggests, is a mathematical module."
   ]
  },
  {
   "cell_type": "code",
   "execution_count": 2,
   "metadata": {},
   "outputs": [
    {
     "name": "stdout",
     "output_type": "stream",
     "text": [
      "3.141592653589793\n"
     ]
    }
   ],
   "source": [
    "# import module_name\n",
    "import math\n",
    "\n",
    "# module_name.variable\n",
    "print(math.pi) "
   ]
  },
  {
   "cell_type": "code",
   "execution_count": 13,
   "metadata": {},
   "outputs": [
    {
     "name": "stdout",
     "output_type": "stream",
     "text": [
      "7.0710678118654755\n"
     ]
    }
   ],
   "source": [
    "# module_name.function()\n",
    "sqrt = math.sqrt(50)\n",
    "print(sqrt)"
   ]
  },
  {
   "cell_type": "markdown",
   "metadata": {},
   "source": [
    "Let's take a closer look at the import statement. Notice that,\n",
    "\n",
    "1. The way we have it above is general - we are not specifying what methods/objects to grab - so Python will grab all the methods associated with the module. What if you only needed one or two things?\n",
    "2. `math` is a short name, but what if the module had a longer name? Do you really want to keep typing its name to access its functions like `module_name.function()`?\n",
    "\n",
    "We can get around the above by doing the following:\n",
    "\n",
    "1. Specifying what we want in the import statement.\n",
    "2. Giving the module an *alias*, which is kind of like a nickname."
   ]
  },
  {
   "cell_type": "code",
   "execution_count": 14,
   "metadata": {},
   "outputs": [
    {
     "name": "stdout",
     "output_type": "stream",
     "text": [
      "10.0\n"
     ]
    }
   ],
   "source": [
    "# Importing math with the alias \"m\"\n",
    "import math as m\n",
    "\n",
    "sq_root = m.sqrt(100) \n",
    "print(sq_root )"
   ]
  },
  {
   "cell_type": "code",
   "execution_count": 15,
   "metadata": {},
   "outputs": [],
   "source": [
    "from math import sqrt # only imports the sqrt function\n",
    "from math import *  # import EVERYTHING from math. \"*\" is something called a wildcard"
   ]
  },
  {
   "cell_type": "markdown",
   "metadata": {},
   "source": [
    "#### NOTE: If we import a specific function from a module then define our own function with the same name, our function will override the one we imported."
   ]
  },
  {
   "cell_type": "markdown",
   "metadata": {},
   "source": [
    "**Exercise:**\n",
    "\n",
    "1. Import the factorial function from the math library.\n",
    "2. In a comment, explain how the function works.\n",
    "3. Use the function on any number you like and save the result into a variable.\n",
    "4. Print the result."
   ]
  },
  {
   "cell_type": "markdown",
   "metadata": {},
   "source": [
    "An indespensible module that you will be using a lot is the csv module. **CSV** stands for comma separated values. If you've ever dealth with an excel file then you've dealt with a '.csv' file. What it does is help you easily import csv files into your analysis environment and then read or write to (edit) the file.\n",
    "\n",
    "We will explain and practice this more later on. But for now, let's try to use the csv module following the rules  we've learned above:"
   ]
  },
  {
   "cell_type": "code",
   "execution_count": 22,
   "metadata": {},
   "outputs": [
    {
     "name": "stdout",
     "output_type": "stream",
     "text": [
      "2\n"
     ]
    }
   ],
   "source": [
    "from math import factorial #it only import factorial from math library as seen\n",
    "result = math.factorial(2)\n",
    "print(result)"
   ]
  },
  {
   "cell_type": "markdown",
   "metadata": {},
   "source": [
    "**Exercise:**\n",
    "\n",
    "Using the help of Google, figure out what the code above is exactly doing. Once you have, explain it in a cell below.\n",
    "\n",
    "**Challenge:**\n",
    "\n",
    "Fix the code above and get it to work!"
   ]
  },
  {
   "cell_type": "code",
   "execution_count": 23,
   "metadata": {},
   "outputs": [],
   "source": [
    "#what code???"
   ]
  }
 ],
 "metadata": {
  "kernelspec": {
   "display_name": "Python 3",
   "language": "python",
   "name": "python3"
  },
  "language_info": {
   "codemirror_mode": {
    "name": "ipython",
    "version": 3
   },
   "file_extension": ".py",
   "mimetype": "text/x-python",
   "name": "python",
   "nbconvert_exporter": "python",
   "pygments_lexer": "ipython3",
   "version": "3.8.5"
  }
 },
 "nbformat": 4,
 "nbformat_minor": 2
}
